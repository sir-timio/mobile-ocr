{
 "cells": [
  {
   "cell_type": "code",
   "execution_count": 1,
   "id": "e2594955",
   "metadata": {},
   "outputs": [],
   "source": [
    "import torch"
   ]
  },
  {
   "cell_type": "code",
   "execution_count": 2,
   "id": "1e7fbfb8",
   "metadata": {},
   "outputs": [],
   "source": [
    "path = 'weights/recognizer.script'"
   ]
  },
  {
   "cell_type": "code",
   "execution_count": 3,
   "id": "117f4df3",
   "metadata": {},
   "outputs": [],
   "source": [
    "model = torch.jit.load(path, 'cpu')"
   ]
  },
  {
   "cell_type": "code",
   "execution_count": 8,
   "id": "931d4723",
   "metadata": {},
   "outputs": [
    {
     "data": {
      "text/plain": [
       "<torch.jit._script.OrderedModuleDict at 0x1437fdf10>"
      ]
     },
     "execution_count": 8,
     "metadata": {},
     "output_type": "execute_result"
    }
   ],
   "source": [
    "model._modules"
   ]
  },
  {
   "cell_type": "code",
   "execution_count": 12,
   "id": "ce54b326",
   "metadata": {},
   "outputs": [
    {
     "data": {
      "text/plain": [
       "86"
      ]
     },
     "execution_count": 12,
     "metadata": {},
     "output_type": "execute_result"
    }
   ],
   "source": [
    "model.blank_index"
   ]
  },
  {
   "cell_type": "code",
   "execution_count": null,
   "id": "2e98e14c",
   "metadata": {},
   "outputs": [],
   "source": []
  },
  {
   "cell_type": "code",
   "execution_count": 9,
   "id": "1cfad982",
   "metadata": {},
   "outputs": [],
   "source": [
    "model.blank = '#'"
   ]
  },
  {
   "cell_type": "code",
   "execution_count": 10,
   "id": "aa54d149",
   "metadata": {},
   "outputs": [],
   "source": [
    "torch.jit.save(model, path)"
   ]
  },
  {
   "cell_type": "code",
   "execution_count": null,
   "id": "e4c2023a",
   "metadata": {},
   "outputs": [],
   "source": []
  }
 ],
 "metadata": {
  "kernelspec": {
   "display_name": "Python 3",
   "language": "python",
   "name": "python3"
  },
  "language_info": {
   "codemirror_mode": {
    "name": "ipython",
    "version": 3
   },
   "file_extension": ".py",
   "mimetype": "text/x-python",
   "name": "python",
   "nbconvert_exporter": "python",
   "pygments_lexer": "ipython3",
   "version": "3.7.10"
  }
 },
 "nbformat": 4,
 "nbformat_minor": 5
}
