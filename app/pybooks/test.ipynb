{
 "cells": [
  {
   "cell_type": "code",
   "execution_count": 1,
   "id": "cb841e98",
   "metadata": {},
   "outputs": [],
   "source": [
    "import os"
   ]
  },
  {
   "cell_type": "code",
   "execution_count": 2,
   "id": "7e6e42e4",
   "metadata": {},
   "outputs": [],
   "source": [
    "import sys\n",
    "sys.path.append('/app')"
   ]
  },
  {
   "cell_type": "code",
   "execution_count": 10,
   "id": "dc23683b",
   "metadata": {},
   "outputs": [],
   "source": [
    "from pathlib import Path\n",
    "import cv2\n",
    "import numpy as np\n",
    "import pandas as pd\n",
    "import pytest\n",
    "from omegaconf import OmegaConf\n",
    "from PIL import Image\n",
    "import http\n",
    "import matplotlib.pylab as plt\n",
    "from app import create_appp"
   ]
  },
  {
   "cell_type": "code",
   "execution_count": 11,
   "id": "09a1bbbd",
   "metadata": {},
   "outputs": [],
   "source": [
    "def imread(path):\n",
    "    img = cv2.imread(path, cv2.IMREAD_GRAYSCALE)\n",
    "    return img\n",
    "\n",
    "def imshow(image, label=None, figsize=(8,8), cmap='gray', **kwargs):\n",
    "    plt.figure(figsize=figsize)\n",
    "    if label:\n",
    "        print(label)\n",
    "    plt.imshow(image, **kwargs, cmap=cmap)\n",
    "    plt.show()"
   ]
  },
  {
   "cell_type": "code",
   "execution_count": 12,
   "id": "67fb1e16",
   "metadata": {},
   "outputs": [],
   "source": [
    "folder_images = '../tests/test_data'\n",
    "paths = Path(folder_images).glob('*.jpg')\n",
    "images = [imread(str(p)) for p in paths]"
   ]
  },
  {
   "cell_type": "code",
   "execution_count": 13,
   "id": "79aa67d4",
   "metadata": {},
   "outputs": [],
   "source": [
    "def image_in_byte(image):\n",
    "    Image.fromarray(image)\n",
    "    flag, image_encoded = cv2.imencode('.png', image)\n",
    "    return image_encoded.tobytes()"
   ]
  },
  {
   "cell_type": "code",
   "execution_count": 14,
   "id": "c341e3f3",
   "metadata": {},
   "outputs": [],
   "source": [
    "def get_client():\n",
    "    app = create_app()\n",
    "    return app.test_client()"
   ]
  },
  {
   "cell_type": "code",
   "execution_count": 15,
   "id": "779c1d46",
   "metadata": {},
   "outputs": [],
   "source": [
    "def predict(client, img):\n",
    "    rv = client.post('/predict', data=image_in_byte(img))\n",
    "    assert rv.status_code == http.HTTPStatus.OK\n",
    "    return rv.data.decode(\"utf-8\") "
   ]
  },
  {
   "cell_type": "code",
   "execution_count": 16,
   "id": "ca9f549d",
   "metadata": {},
   "outputs": [],
   "source": [
    "client = get_client()"
   ]
  },
  {
   "cell_type": "code",
   "execution_count": 17,
   "id": "ba6bfcd4",
   "metadata": {},
   "outputs": [],
   "source": [
    "img = images[0]"
   ]
  },
  {
   "cell_type": "code",
   "execution_count": null,
   "id": "4fa68a97",
   "metadata": {},
   "outputs": [],
   "source": [
    "for i, img in enumerate(images):\n",
    "    cv2.imwrite('../../app/tests/test_data/')"
   ]
  },
  {
   "cell_type": "code",
   "execution_count": 18,
   "id": "daf70079",
   "metadata": {},
   "outputs": [
    {
     "data": {
      "image/png": "[encoded data removed]",
      "text/plain": [
       "<Figure size 576x576 with 1 Axes>"
      ]
     },
     "metadata": {
      "needs_background": "light"
     },
     "output_type": "display_data"
    }
   ],
   "source": [
    "imshow(img)"
   ]
  },
  {
   "cell_type": "code",
   "execution_count": 19,
   "id": "020f6115",
   "metadata": {},
   "outputs": [
    {
     "data": {
      "text/plain": [
       "'Полночь нас'"
      ]
     },
     "execution_count": 19,
     "metadata": {},
     "output_type": "execute_result"
    }
   ],
   "source": [
    "predict(client, img)"
   ]
  },
  {
   "cell_type": "code",
   "execution_count": null,
   "id": "c9493534",
   "metadata": {},
   "outputs": [],
   "source": []
  }
 ],
 "metadata": {
  "kernelspec": {
   "display_name": "Python 3 (ipykernel)",
   "language": "python",
   "name": "python3"
  },
  "language_info": {
   "codemirror_mode": {
    "name": "ipython",
    "version": 3
   },
   "file_extension": ".py",
   "mimetype": "text/x-python",
   "name": "python",
   "nbconvert_exporter": "python",
   "pygments_lexer": "ipython3",
   "version": "3.7.11"
  }
 },
 "nbformat": 4,
 "nbformat_minor": 5
}
