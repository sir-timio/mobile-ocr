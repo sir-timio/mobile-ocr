{
 "cells": [
  {
   "cell_type": "code",
   "execution_count": 1,
   "id": "cb841e98",
   "metadata": {},
   "outputs": [],
   "source": [
    "import os"
   ]
  },
  {
   "cell_type": "code",
   "execution_count": 2,
   "id": "7e6e42e4",
   "metadata": {},
   "outputs": [],
   "source": [
    "import sys\n",
    "sys.path.append('/app')"
   ]
  },
  {
   "cell_type": "code",
   "execution_count": 3,
   "id": "dc23683b",
   "metadata": {},
   "outputs": [
    {
     "name": "stderr",
     "output_type": "stream",
     "text": [
      "kenlm python bindings are not installed. Most likely you want to install it using: pip install https://github.com/kpu/kenlm/archive/master.zip\n",
      "kenlm python bindings are not installed. Most likely you want to install it using: pip install https://github.com/kpu/kenlm/archive/master.zip\n"
     ]
    }
   ],
   "source": [
    "from pathlib import Path\n",
    "import cv2\n",
    "import numpy as np\n",
    "import pandas as pd\n",
    "import pytest\n",
    "from omegaconf import OmegaConf\n",
    "from PIL import Image\n",
    "import http\n",
    "import matplotlib.pylab as plt\n",
    "from app import create_app"
   ]
  },
  {
   "cell_type": "code",
   "execution_count": 4,
   "id": "09a1bbbd",
   "metadata": {},
   "outputs": [],
   "source": [
    "def imread(path: str, gray=False) -> np.ndarray:\n",
    "    if gray:\n",
    "        return cv2.imread(path, cv2.IMREAD_GRAYSCALE)\n",
    "    image = cv2.imread(path, cv2.IMREAD_COLOR)\n",
    "    image = cv2.cvtColor(image, cv2.COLOR_BGR2RGB)\n",
    "    return image\n",
    "\n",
    "def imshow(image, label=None, figsize=(12,12), cmap='gray', **kwargs):\n",
    "    plt.figure(figsize=figsize)\n",
    "    if label:\n",
    "        print(label)\n",
    "    plt.imshow(image, **kwargs, cmap=cmap)\n",
    "    plt.show()"
   ]
  },
  {
   "cell_type": "code",
   "execution_count": 5,
   "id": "67fb1e16",
   "metadata": {},
   "outputs": [],
   "source": [
    "folder_images = '../tests/test_data'\n",
    "paths = Path(folder_images).glob('*.jpeg')\n",
    "images = [imread(str(p)) for p in paths]"
   ]
  },
  {
   "cell_type": "code",
   "execution_count": 6,
   "id": "79aa67d4",
   "metadata": {},
   "outputs": [],
   "source": [
    "def image_in_byte(image):\n",
    "    Image.fromarray(image)\n",
    "    flag, image_encoded = cv2.imencode('.png', image)\n",
    "    return image_encoded.tobytes()"
   ]
  },
  {
   "cell_type": "code",
   "execution_count": 7,
   "id": "c341e3f3",
   "metadata": {},
   "outputs": [],
   "source": [
    "def get_client():\n",
    "    app = create_app()\n",
    "    return app.test_client()"
   ]
  },
  {
   "cell_type": "code",
   "execution_count": 8,
   "id": "779c1d46",
   "metadata": {},
   "outputs": [],
   "source": [
    "def predict(client, img):\n",
    "    rv = client.post('/predict', data=image_in_byte(img))\n",
    "    assert rv.status_code == http.HTTPStatus.OK\n",
    "    return rv.data.decode(\"utf-8\") "
   ]
  },
  {
   "cell_type": "code",
   "execution_count": 9,
   "id": "997beb37",
   "metadata": {},
   "outputs": [],
   "source": [
    "img = images[0]"
   ]
  },
  {
   "cell_type": "code",
   "execution_count": 10,
   "id": "ca9f549d",
   "metadata": {},
   "outputs": [],
   "source": [
    "client = get_client()"
   ]
  },
  {
   "cell_type": "code",
   "execution_count": 11,
   "id": "264d9c39",
   "metadata": {},
   "outputs": [],
   "source": [
    "# %%timeit\n",
    "# client.post('/predict', data=image_in_byte(img))"
   ]
  },
  {
   "cell_type": "code",
   "execution_count": 12,
   "id": "020f6115",
   "metadata": {},
   "outputs": [
    {
     "name": "stderr",
     "output_type": "stream",
     "text": [
      "[2022-09-11 20:12:08,949] ERROR in app: Exception on /predict [POST]\n",
      "Traceback (most recent call last):\n",
      "  File \"/opt/conda/lib/python3.7/site-packages/flask/app.py\", line 2525, in wsgi_app\n",
      "    response = self.full_dispatch_request()\n",
      "  File \"/opt/conda/lib/python3.7/site-packages/flask/app.py\", line 1823, in full_dispatch_request\n",
      "    return self.finalize_request(rv)\n",
      "  File \"/opt/conda/lib/python3.7/site-packages/flask/app.py\", line 1842, in finalize_request\n",
      "    response = self.make_response(rv)\n",
      "  File \"/opt/conda/lib/python3.7/site-packages/flask/app.py\", line 2188, in make_response\n",
      "    rv.headers.update(headers)  # type: ignore[arg-type]\n",
      "  File \"/opt/conda/lib/python3.7/site-packages/werkzeug/datastructures.py\", line 1267, in update\n",
      "    for key, value in mapping:\n",
      "ValueError: too many values to unpack (expected 2)\n"
     ]
    },
    {
     "ename": "AssertionError",
     "evalue": "",
     "output_type": "error",
     "traceback": [
      "\u001b[0;31m---------------------------------------------------------------------------\u001b[0m",
      "\u001b[0;31mAssertionError\u001b[0m                            Traceback (most recent call last)",
      "\u001b[0;32m/tmp/ipykernel_424/920905077.py\u001b[0m in \u001b[0;36m<module>\u001b[0;34m\u001b[0m\n\u001b[0;32m----> 1\u001b[0;31m \u001b[0mpredict\u001b[0m\u001b[0;34m(\u001b[0m\u001b[0mclient\u001b[0m\u001b[0;34m,\u001b[0m \u001b[0mimg\u001b[0m\u001b[0;34m)\u001b[0m\u001b[0;34m\u001b[0m\u001b[0;34m\u001b[0m\u001b[0m\n\u001b[0m",
      "\u001b[0;32m/tmp/ipykernel_424/2831557274.py\u001b[0m in \u001b[0;36mpredict\u001b[0;34m(client, img)\u001b[0m\n\u001b[1;32m      1\u001b[0m \u001b[0;32mdef\u001b[0m \u001b[0mpredict\u001b[0m\u001b[0;34m(\u001b[0m\u001b[0mclient\u001b[0m\u001b[0;34m,\u001b[0m \u001b[0mimg\u001b[0m\u001b[0;34m)\u001b[0m\u001b[0;34m:\u001b[0m\u001b[0;34m\u001b[0m\u001b[0;34m\u001b[0m\u001b[0m\n\u001b[1;32m      2\u001b[0m     \u001b[0mrv\u001b[0m \u001b[0;34m=\u001b[0m \u001b[0mclient\u001b[0m\u001b[0;34m.\u001b[0m\u001b[0mpost\u001b[0m\u001b[0;34m(\u001b[0m\u001b[0;34m'/predict'\u001b[0m\u001b[0;34m,\u001b[0m \u001b[0mdata\u001b[0m\u001b[0;34m=\u001b[0m\u001b[0mimage_in_byte\u001b[0m\u001b[0;34m(\u001b[0m\u001b[0mimg\u001b[0m\u001b[0;34m)\u001b[0m\u001b[0;34m)\u001b[0m\u001b[0;34m\u001b[0m\u001b[0;34m\u001b[0m\u001b[0m\n\u001b[0;32m----> 3\u001b[0;31m     \u001b[0;32massert\u001b[0m \u001b[0mrv\u001b[0m\u001b[0;34m.\u001b[0m\u001b[0mstatus_code\u001b[0m \u001b[0;34m==\u001b[0m \u001b[0mhttp\u001b[0m\u001b[0;34m.\u001b[0m\u001b[0mHTTPStatus\u001b[0m\u001b[0;34m.\u001b[0m\u001b[0mOK\u001b[0m\u001b[0;34m\u001b[0m\u001b[0;34m\u001b[0m\u001b[0m\n\u001b[0m\u001b[1;32m      4\u001b[0m     \u001b[0;32mreturn\u001b[0m \u001b[0mrv\u001b[0m\u001b[0;34m.\u001b[0m\u001b[0mdata\u001b[0m\u001b[0;34m.\u001b[0m\u001b[0mdecode\u001b[0m\u001b[0;34m(\u001b[0m\u001b[0;34m\"utf-8\"\u001b[0m\u001b[0;34m)\u001b[0m\u001b[0;34m\u001b[0m\u001b[0;34m\u001b[0m\u001b[0m\n",
      "\u001b[0;31mAssertionError\u001b[0m: "
     ]
    }
   ],
   "source": [
    "predict(client, img)"
   ]
  },
  {
   "cell_type": "code",
   "execution_count": 13,
   "id": "55f9217e",
   "metadata": {},
   "outputs": [],
   "source": [
    "from omegaconf import OmegaConf"
   ]
  },
  {
   "cell_type": "code",
   "execution_count": 14,
   "id": "82ba3a0e",
   "metadata": {},
   "outputs": [],
   "source": [
    "config = OmegaConf.load('../tests/config.yml')"
   ]
  },
  {
   "cell_type": "code",
   "execution_count": 15,
   "id": "4d4618e8",
   "metadata": {},
   "outputs": [],
   "source": [
    "import sys\n",
    "sys.path.append('/app')"
   ]
  },
  {
   "cell_type": "code",
   "execution_count": 16,
   "id": "e9480bf5",
   "metadata": {},
   "outputs": [],
   "source": [
    "from service.core.core import HTR"
   ]
  },
  {
   "cell_type": "code",
   "execution_count": 17,
   "id": "2f644c6f",
   "metadata": {},
   "outputs": [
    {
     "data": {
      "text/plain": [
       "'/app/weights/recognizer.script'"
      ]
     },
     "execution_count": 17,
     "metadata": {},
     "output_type": "execute_result"
    }
   ],
   "source": [
    "config.htr.recognizer.model_path"
   ]
  },
  {
   "cell_type": "code",
   "execution_count": 18,
   "id": "ebbaace0",
   "metadata": {},
   "outputs": [],
   "source": [
    "model = HTR(config['htr'])"
   ]
  },
  {
   "cell_type": "code",
   "execution_count": 19,
   "id": "3d40b731",
   "metadata": {},
   "outputs": [],
   "source": [
    "detector = model.detector"
   ]
  },
  {
   "cell_type": "code",
   "execution_count": 20,
   "id": "cf1c09ab",
   "metadata": {},
   "outputs": [],
   "source": [
    "polygons = detector.predict(img)"
   ]
  },
  {
   "cell_type": "code",
   "execution_count": 21,
   "id": "836c72e5",
   "metadata": {},
   "outputs": [],
   "source": [
    "img = images[0]"
   ]
  },
  {
   "cell_type": "code",
   "execution_count": 22,
   "id": "533d85ca",
   "metadata": {},
   "outputs": [],
   "source": [
    "polygons = detector.predict(img)"
   ]
  },
  {
   "cell_type": "code",
   "execution_count": 23,
   "id": "562836f3",
   "metadata": {},
   "outputs": [],
   "source": [
    "img = cv2.cvtColor(img, cv2.COLOR_RGB2GRAY)"
   ]
  },
  {
   "cell_type": "code",
   "execution_count": 24,
   "id": "ff9f5436",
   "metadata": {},
   "outputs": [],
   "source": [
    "def poly_to_box(polygon):\n",
    "    pol = np.array(polygon)\n",
    "    mins = np.min(pol, axis=0)\n",
    "    maxs = np.max(pol, axis=0)\n",
    "    return mins[0], mins[1], maxs[0], maxs[1]"
   ]
  },
  {
   "cell_type": "code",
   "execution_count": 28,
   "id": "2b0e123e",
   "metadata": {},
   "outputs": [],
   "source": [
    "crops = []\n",
    "for poly in polygons:\n",
    "    poly = np.array(poly).astype(int)\n",
    "    pts = poly\n",
    "    box = poly_to_box(poly)\n",
    "    crop = img[box[1]:box[3], box[0]:box[2]]\n",
    "    if not all(crop.shape):\n",
    "        continue\n",
    "    crops.append(crop)\n",
    "\n",
    "    # labels = self.recognizer.predict(crops)"
   ]
  },
  {
   "cell_type": "code",
   "execution_count": 30,
   "id": "9d2d2ded",
   "metadata": {},
   "outputs": [
    {
     "data": {
      "text/plain": [
       "['ОЧеНЬ нвавутсЯ',\n",
       " 'ДЛИННЫй',\n",
       " 'ХВОСТ УНе Она',\n",
       " 'ВИСЯЧИЕ ТШИИ',\n",
       " 'собаки',\n",
       " 'ПриЗемистое тело',\n",
       " 'этоу',\n",
       " 'глиннор',\n",
       " 'пать',\n",
       " 'КороткИе и сильные',\n",
       " 'собака Унеё',\n",
       " 'Это',\n",
       " 'Такса']"
      ]
     },
     "execution_count": 30,
     "metadata": {},
     "output_type": "execute_result"
    }
   ],
   "source": [
    "model.recognizer.predict(crops)"
   ]
  },
  {
   "cell_type": "code",
   "execution_count": null,
   "id": "71f4577b",
   "metadata": {},
   "outputs": [],
   "source": [
    "def visualize_detection(img, boxes):\n",
    "    marked_img = img.copy()\n",
    "    for box in boxes:\n",
    "        box = np.array(box).astype(np.int32).reshape(-1, 2)\n",
    "        cv2.polylines(marked_img, [box], True, (0, 255, 0), 2)\n",
    "    return marked_img"
   ]
  },
  {
   "cell_type": "code",
   "execution_count": null,
   "id": "3a3200b1",
   "metadata": {},
   "outputs": [],
   "source": [
    "imshow(visualize_detection(img, boxes))"
   ]
  },
  {
   "cell_type": "code",
   "execution_count": null,
   "id": "895f5e8d",
   "metadata": {},
   "outputs": [],
   "source": [
    "img.shape"
   ]
  },
  {
   "cell_type": "code",
   "execution_count": null,
   "id": "857bffa0",
   "metadata": {},
   "outputs": [],
   "source": [
    "box[0]"
   ]
  },
  {
   "cell_type": "code",
   "execution_count": null,
   "id": "55b94f56",
   "metadata": {},
   "outputs": [],
   "source": [
    "model.predict(img)"
   ]
  },
  {
   "cell_type": "code",
   "execution_count": null,
   "id": "aa72fd8d",
   "metadata": {},
   "outputs": [],
   "source": []
  }
 ],
 "metadata": {
  "kernelspec": {
   "display_name": "Python 3 (ipykernel)",
   "language": "python",
   "name": "python3"
  },
  "language_info": {
   "codemirror_mode": {
    "name": "ipython",
    "version": 3
   },
   "file_extension": ".py",
   "mimetype": "text/x-python",
   "name": "python",
   "nbconvert_exporter": "python",
   "pygments_lexer": "ipython3",
   "version": "3.7.11"
  }
 },
 "nbformat": 4,
 "nbformat_minor": 5
}
